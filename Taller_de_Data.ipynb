{
  "nbformat": 4,
  "nbformat_minor": 0,
  "metadata": {
    "colab": {
      "name": "Taller de Data.ipynb",
      "provenance": [],
      "authorship_tag": "ABX9TyPA9JThRtRtz77UDdhiM5dX",
      "include_colab_link": true
    },
    "kernelspec": {
      "name": "python3",
      "display_name": "Python 3"
    },
    "language_info": {
      "name": "python"
    }
  },
  "cells": [
    {
      "cell_type": "markdown",
      "metadata": {
        "id": "view-in-github",
        "colab_type": "text"
      },
      "source": [
        "<a href=\"https://colab.research.google.com/github/DulceMarinG/TallerData/blob/main/Taller_de_Data.ipynb\" target=\"_parent\"><img src=\"https://colab.research.google.com/assets/colab-badge.svg\" alt=\"Open In Colab\"/></a>"
      ]
    },
    {
      "cell_type": "markdown",
      "metadata": {
        "id": "PGVDX9ESOxLO"
      },
      "source": [
        "#Taller De Ciencia De Datos \n",
        "Visualización y Análisis de Datos.\n"
      ]
    },
    {
      "cell_type": "code",
      "metadata": {
        "id": "9ENkeZGhOvp2"
      },
      "source": [
        ""
      ],
      "execution_count": null,
      "outputs": []
    },
    {
      "cell_type": "markdown",
      "metadata": {
        "id": "J_I8ttBJPeLH"
      },
      "source": [
        "### Importamos las herraminetas\n",
        "Para el siguiente taller se requiere importar las siguientes bibliotecas:\n",
        "\n",
        "\n",
        "\n",
        "*   Numpy\n",
        "      + Es una biblioteca que proporciona toda la utilería necesaria para realizar Computo Científico. \n",
        "      + Su dominio principal es el Álgebra Lineal, Tranformada de Fourier y las Matrices.\n",
        "      + [NumpyDocs](https://numpy.org/doc/stable/)\n",
        "*   Pandas\n",
        "      + Es una bibliote considerada una extensión de Numpy para la manipulación y anális de datos en Python.\n",
        "      + [PandasDocs](https://pandas.pydata.org/)\n",
        "*   Matplotlib\n",
        "      + Es una biblioteca para la generación de gráficos a partir de datos contenidos en listas o arreglos con python.\n",
        "      + [MatplotlibDocs](https://matplotlib.org/)\n",
        "\n",
        "* Seaborn\n",
        "     + Es una biblioteca que extiende su fincionalidad de Matplotlib y permite genrar diferentes tipos de gráficos. \n",
        "     + [SeabornDocs](https://seaborn.pydata.org/)\n",
        "\n",
        "\n",
        "\n"
      ]
    },
    {
      "cell_type": "code",
      "metadata": {
        "id": "TTVAZ_Dynpxr"
      },
      "source": [
        ""
      ],
      "execution_count": null,
      "outputs": []
    },
    {
      "cell_type": "markdown",
      "metadata": {
        "id": "Ae9ZW3L8oGN7"
      },
      "source": [
        "### Preparamos el enterno de trabajo, instalando los paquetes necesarios. "
      ]
    },
    {
      "cell_type": "code",
      "metadata": {
        "id": "MyQDFURKoQ8v"
      },
      "source": [
        "#Pandas, Matplotlib, Numpy y Seaborn.\n",
        "import pandas as pd\n",
        "import numpy as np\n",
        "import matplotlib.pyplot as plt\n",
        "import seaborn as sns"
      ],
      "execution_count": 1,
      "outputs": []
    },
    {
      "cell_type": "code",
      "metadata": {
        "id": "ZIjK23LpoOQT"
      },
      "source": [
        ""
      ],
      "execution_count": null,
      "outputs": []
    },
    {
      "cell_type": "markdown",
      "metadata": {
        "id": "JBORL8_ro_Nz"
      },
      "source": [
        "### Cargamos el dataset que vamos a utilizar. \n",
        "\n",
        "Si estás en GColab/ Azure Notebooks es importante que agregues el dataset.\n",
        "El formato del dataset de preferencia sea un .csv.\n",
        "\n",
        "#### Pasos para cargar un data set \n",
        "* Crear una variable que almacene la ruta del data set\n",
        "*Cramos una variabkle que contenga el data set, leemos el archivo y después lo almacenamos en la variable. "
      ]
    },
    {
      "cell_type": "code",
      "metadata": {
        "id": "C0iCVFP7pERu"
      },
      "source": [
        "fifa_filepath = './fifa.csv'\n",
        "fifa_data = pd.read_csv(fifa_filepath, index_col = 'Date', parse_dates= True)"
      ],
      "execution_count": null,
      "outputs": []
    },
    {
      "cell_type": "code",
      "metadata": {
        "id": "zmbsa6FOvScB"
      },
      "source": [
        ""
      ],
      "execution_count": null,
      "outputs": []
    },
    {
      "cell_type": "markdown",
      "metadata": {
        "id": "OSgllrYAv6Qz"
      },
      "source": [
        "Verificamos el dataset\n",
        "\n",
        "Llamamos a la función head y le pedimos que imprima los primeros 10 regitros."
      ]
    },
    {
      "cell_type": "code",
      "metadata": {
        "id": "4dobgbCcw83p"
      },
      "source": [
        ""
      ],
      "execution_count": null,
      "outputs": []
    }
  ]
}